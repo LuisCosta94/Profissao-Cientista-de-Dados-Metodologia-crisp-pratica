{
  "cells": [
    {
      "cell_type": "markdown",
      "metadata": {
        "id": "njUvbhQmC8-t"
      },
      "source": [
        "## Exercício 1: Vestibular\n",
        "\n",
        "Considere que a os dados gerados na célula abaixo contêm o número de acertos de 100 alunos em um vestibular para um curso de exatas, divididas pelos respectivos assuntos. Considere que cada assunto possui um número de questões conforme a tabela abaixo:\n",
        "\n",
        "| assunto | número de questões |\n",
        "|:---:|:---:|\n",
        "| Matemática | 24 |\n",
        "| Português | 18 |\n",
        "| Geografia | 8 |\n",
        "| Inglês | 8 |\n",
        "| História | 8 |\n",
        "| Física | 12 |\n",
        "| Química | 12 |\n",
        "\n",
        "Usando os comandos de operações com DataFrames que você aprendeu na Aula 03, calcule:\n",
        "\n",
        "1. (operações com escalar) Calcule o percentual de acerto dos alunos por assunto.  \n",
        "2. (operações entre *DataFrames) Calcule o total de acertos de cada aluno.  \n",
        "3. Calcule o porcentual geral de cada aluno.  \n",
        "4. Suponha que a nota de corte para a segunda fase seja 45. Quantos alunos tiveram nota maior que 45?  "
      ]
    },
    {
      "cell_type": "code",
      "execution_count": 3,
      "metadata": {
        "id": "Ll6TadxCC8-y"
      },
      "outputs": [],
      "source": [
        "import pandas as pd\n",
        "import numpy as np\n",
        "\n",
        "total_questoes = {\n",
        "    'mat': 24,\n",
        "    'por': 18,\n",
        "    'geo': 8,\n",
        "    'ing': 8,\n",
        "    'his': 8,\n",
        "    'fis': 12,\n",
        "    'qui': 12\n",
        "}\n",
        "\n",
        "np.random.seed(42)\n",
        "df_mat = pd.DataFrame(np.random.randint(24, size=(100, 1)), columns=['Qt_acertos'])\n",
        "\n",
        "df_por = pd.DataFrame(np.random.randint(18, size=(100, 1)), columns=['Qt_acertos'])\n",
        "\n",
        "df_geo = pd.DataFrame(np.random.randint(8, size=(100, 1)), columns=['Qt_acertos'])\n",
        "\n",
        "df_ing = pd.DataFrame(np.random.randint(8, size=(100, 1)), columns=['Qt_acertos'])\n",
        "\n",
        "df_his = pd.DataFrame(np.random.randint(8, size=(100, 1)), columns=['Qt_acertos'])\n",
        "\n",
        "df_fis = pd.DataFrame(np.random.randint(12, size=(100, 1)), columns=['Qt_acertos'])\n",
        "\n",
        "df_qui = pd.DataFrame(np.random.randint(12, size=(100, 1)), columns=['Qt_acertos'])"
      ]
    },
    {
      "cell_type": "code",
      "execution_count": 4,
      "metadata": {
        "id": "JVmLXiC2C8-0"
      },
      "outputs": [
        {
          "name": "stdout",
          "output_type": "stream",
          "text": [
            "   Qt_acertos  Pct_acertos\n",
            "0           6        25.00\n",
            "1          19        79.17\n",
            "2          14        58.33\n",
            "3          10        41.67\n",
            "4           7        29.17\n"
          ]
        }
      ],
      "source": [
        "# 1) Seu código aqui\n",
        "# Lista dos DataFrames\n",
        "dfs = [df_mat, df_por, df_geo, df_ing, df_his, df_fis, df_qui]\n",
        "# Lista das chaves correspondentes no dicionário total_questoes\n",
        "nomes_materias = ['mat', 'por', 'geo', 'ing', 'his', 'fis', 'qui']\n",
        "\n",
        "# Loop para calcular o percentual para cada DataFrame\n",
        "for df, nome_materia in zip(dfs, nomes_materias):\n",
        "    total = total_questoes[nome_materia]\n",
        "    df['Pct_acertos'] = (df['Qt_acertos'] / total) * 100\n",
        "    # arredondar para 2 casas decimais\n",
        "    df['Pct_acertos'] = df['Pct_acertos'].round(2)\n",
        "\n",
        "# Verificar o resultado\n",
        "print(df_mat.head())\n",
        "# print(df_por.head())\n",
        "# print(df_geo.head())\n",
        "# print(df_ing.head())\n",
        "# print(df_his.head())\n",
        "# print(df_fis.head())\n",
        "# print(df_qui.head())\n",
        "\n",
        "\n"
      ]
    },
    {
      "cell_type": "code",
      "execution_count": 5,
      "metadata": {
        "id": "JbTwCyNHC8-1"
      },
      "outputs": [
        {
          "data": {
            "text/html": [
              "<div>\n",
              "<style scoped>\n",
              "    .dataframe tbody tr th:only-of-type {\n",
              "        vertical-align: middle;\n",
              "    }\n",
              "\n",
              "    .dataframe tbody tr th {\n",
              "        vertical-align: top;\n",
              "    }\n",
              "\n",
              "    .dataframe thead th {\n",
              "        text-align: right;\n",
              "    }\n",
              "</style>\n",
              "<table border=\"1\" class=\"dataframe\">\n",
              "  <thead>\n",
              "    <tr style=\"text-align: right;\">\n",
              "      <th></th>\n",
              "      <th>Total_acertos</th>\n",
              "    </tr>\n",
              "  </thead>\n",
              "  <tbody>\n",
              "    <tr>\n",
              "      <th>0</th>\n",
              "      <td>35</td>\n",
              "    </tr>\n",
              "    <tr>\n",
              "      <th>1</th>\n",
              "      <td>48</td>\n",
              "    </tr>\n",
              "    <tr>\n",
              "      <th>2</th>\n",
              "      <td>50</td>\n",
              "    </tr>\n",
              "    <tr>\n",
              "      <th>3</th>\n",
              "      <td>32</td>\n",
              "    </tr>\n",
              "    <tr>\n",
              "      <th>4</th>\n",
              "      <td>30</td>\n",
              "    </tr>\n",
              "  </tbody>\n",
              "</table>\n",
              "</div>"
            ],
            "text/plain": [
              "   Total_acertos\n",
              "0             35\n",
              "1             48\n",
              "2             50\n",
              "3             32\n",
              "4             30"
            ]
          },
          "execution_count": 5,
          "metadata": {},
          "output_type": "execute_result"
        }
      ],
      "source": [
        "# 2) Seu código aqui\n",
        "#cria uma lista contendo a coluna de acertos de cada df\n",
        "lista_acertos = [df['Qt_acertos'] for df in dfs]\n",
        "#concatena as listas em um df\n",
        "df_todos_acertos = pd.concat(lista_acertos, axis=1)\n",
        "# soma os valores de cada coluna\n",
        "df_total_acertos = df_todos_acertos.sum(axis=1)\n",
        "# cria um df com a soma dos valores\n",
        "df_total_acertos = pd.DataFrame(df_total_acertos, columns=['Total_acertos'])\n",
        "df_total_acertos.head()"
      ]
    },
    {
      "cell_type": "code",
      "execution_count": 6,
      "metadata": {
        "id": "c2L8dJkVC8-3"
      },
      "outputs": [
        {
          "data": {
            "text/html": [
              "<div>\n",
              "<style scoped>\n",
              "    .dataframe tbody tr th:only-of-type {\n",
              "        vertical-align: middle;\n",
              "    }\n",
              "\n",
              "    .dataframe tbody tr th {\n",
              "        vertical-align: top;\n",
              "    }\n",
              "\n",
              "    .dataframe thead th {\n",
              "        text-align: right;\n",
              "    }\n",
              "</style>\n",
              "<table border=\"1\" class=\"dataframe\">\n",
              "  <thead>\n",
              "    <tr style=\"text-align: right;\">\n",
              "      <th></th>\n",
              "      <th>Total_acertos</th>\n",
              "      <th>Pct_geral</th>\n",
              "    </tr>\n",
              "  </thead>\n",
              "  <tbody>\n",
              "    <tr>\n",
              "      <th>0</th>\n",
              "      <td>35</td>\n",
              "      <td>38.89</td>\n",
              "    </tr>\n",
              "    <tr>\n",
              "      <th>1</th>\n",
              "      <td>48</td>\n",
              "      <td>53.33</td>\n",
              "    </tr>\n",
              "    <tr>\n",
              "      <th>2</th>\n",
              "      <td>50</td>\n",
              "      <td>55.56</td>\n",
              "    </tr>\n",
              "    <tr>\n",
              "      <th>3</th>\n",
              "      <td>32</td>\n",
              "      <td>35.56</td>\n",
              "    </tr>\n",
              "    <tr>\n",
              "      <th>4</th>\n",
              "      <td>30</td>\n",
              "      <td>33.33</td>\n",
              "    </tr>\n",
              "    <tr>\n",
              "      <th>...</th>\n",
              "      <td>...</td>\n",
              "      <td>...</td>\n",
              "    </tr>\n",
              "    <tr>\n",
              "      <th>95</th>\n",
              "      <td>34</td>\n",
              "      <td>37.78</td>\n",
              "    </tr>\n",
              "    <tr>\n",
              "      <th>96</th>\n",
              "      <td>27</td>\n",
              "      <td>30.00</td>\n",
              "    </tr>\n",
              "    <tr>\n",
              "      <th>97</th>\n",
              "      <td>40</td>\n",
              "      <td>44.44</td>\n",
              "    </tr>\n",
              "    <tr>\n",
              "      <th>98</th>\n",
              "      <td>40</td>\n",
              "      <td>44.44</td>\n",
              "    </tr>\n",
              "    <tr>\n",
              "      <th>99</th>\n",
              "      <td>42</td>\n",
              "      <td>46.67</td>\n",
              "    </tr>\n",
              "  </tbody>\n",
              "</table>\n",
              "<p>100 rows × 2 columns</p>\n",
              "</div>"
            ],
            "text/plain": [
              "    Total_acertos  Pct_geral\n",
              "0              35      38.89\n",
              "1              48      53.33\n",
              "2              50      55.56\n",
              "3              32      35.56\n",
              "4              30      33.33\n",
              "..            ...        ...\n",
              "95             34      37.78\n",
              "96             27      30.00\n",
              "97             40      44.44\n",
              "98             40      44.44\n",
              "99             42      46.67\n",
              "\n",
              "[100 rows x 2 columns]"
            ]
          },
          "execution_count": 6,
          "metadata": {},
          "output_type": "execute_result"
        }
      ],
      "source": [
        "# # 3) Seu código aqui\n",
        "total_questoes_geral = sum(total_questoes.values())\n",
        "\n",
        "# Calcula o percentual\n",
        "df_percentual_geral = (df_total_acertos / total_questoes_geral) * 100\n",
        "# adiciona a coluna e arredonda o valor\n",
        "df_total_acertos['Pct_geral'] = df_percentual_geral.round(2)\n",
        "df_total_acertos\n",
        "\n"
      ]
    },
    {
      "cell_type": "code",
      "execution_count": 7,
      "metadata": {
        "id": "PZTZ7DFzC8-3"
      },
      "outputs": [
        {
          "name": "stdout",
          "output_type": "stream",
          "text": [
            "Número de alunos com nota maior que 45: 31\n"
          ]
        }
      ],
      "source": [
        "# 4) Seu código aqui\n",
        "\n",
        "# Define a nota de corte\n",
        "nota_corte = 45\n",
        "# Filtra os alunos com nota maior que a nota de corte\n",
        "alunos_aprovados = df_total_acertos.loc[df_total_acertos['Total_acertos'] > nota_corte]\n",
        "# Conta quantos alunos foram aprovados\n",
        "num_alunos_aprovados = len(alunos_aprovados)\n",
        "# Exibe o resultado\n",
        "print(f\"Número de alunos com nota maior que {nota_corte}: {num_alunos_aprovados}\")"
      ]
    },
    {
      "cell_type": "markdown",
      "metadata": {
        "id": "Hlfl75XXC8-4"
      },
      "source": [
        "## 2) Vestibular II\n",
        "\n",
        "Ainda sobre o mesmo banco de dados:\n",
        "\n",
        "1. Neste vestibular, quem 'zera' em matemática, física ou química está desqualificado. Monte um novo *DataFrame* com os alunos desqualificados por este critério.\n",
        "2. Quantos são esses alunos?\n",
        "3. Qual a média desses alunos em história e geografia?\n",
        "4. Monte um *DataFrame* com os alunos que passaram para a segunda fase. Repare que estes alunos não podem ter sido desqualificados."
      ]
    },
    {
      "cell_type": "code",
      "execution_count": 12,
      "metadata": {
        "id": "hPaMGXvJC8-4"
      },
      "outputs": [
        {
          "name": "stdout",
          "output_type": "stream",
          "text": [
            "    Qt_acertos  Pct_acertos\n",
            "3           10        41.67\n",
            "6            6        25.00\n",
            "10          10        41.67\n",
            "12          20        83.33\n",
            "14           7        29.17\n",
            "20          23        95.83\n",
            "25           0         0.00\n",
            "26          11        45.83\n",
            "27          21        87.50\n",
            "33          14        58.33\n",
            "35          11        45.83\n",
            "49           8        33.33\n",
            "56           7        29.17\n",
            "65           1         4.17\n",
            "66           5        20.83\n",
            "72          11        45.83\n",
            "73           1         4.17\n",
            "74           9        37.50\n",
            "84          15        62.50\n",
            "89          23        95.83\n",
            "92          14        58.33\n",
            "94           0         0.00\n",
            "98           0         0.00\n"
          ]
        }
      ],
      "source": [
        "# 1. seu código aqui\n",
        "# Cria a condição lógica combinada para aprovados\n",
        "condicao_aprovado_todos = (df_mat['Qt_acertos'] > 0) & \\\n",
        "                          (df_fis['Qt_acertos'] > 0) & \\\n",
        "                          (df_qui['Qt_acertos'] > 0)\n",
        "\n",
        "# ... existing code ...\n",
        "\n",
        "# Cria a condição para reprovados (negação da condição de aprovados)\n",
        "condicao_reprovados = ~condicao_aprovado_todos\n",
        "\n",
        "# Cria o DataFrame com os alunos reprovados, usando df_mat como base para os dados\n",
        "df_reprovados = df_mat[condicao_reprovados]\n",
        "\n",
        "# Mostra as primeiras linhas do DataFrame de reprovados\n",
        "print(df_reprovados)\n"
      ]
    },
    {
      "cell_type": "code",
      "execution_count": 13,
      "metadata": {},
      "outputs": [
        {
          "name": "stdout",
          "output_type": "stream",
          "text": [
            "\n",
            "Número total de alunos desqualificados: 23\n"
          ]
        }
      ],
      "source": [
        "# 2.  \n",
        "# Calcula e imprime o número de alunos reprovados\n",
        "numero_reprovados = len(df_reprovados)\n",
        "print(f\"\\nNúmero total de alunos desqualificados: {numero_reprovados}\")"
      ]
    },
    {
      "cell_type": "code",
      "execution_count": 16,
      "metadata": {},
      "outputs": [
        {
          "name": "stdout",
          "output_type": "stream",
          "text": [
            "A média de acertos do grupo de reprovados no teste de história é 3.43\n",
            "A média de acertos do grupo de reprovados no teste de geografia é 3.22\n"
          ]
        }
      ],
      "source": [
        "# 3. \n",
        "df_his_reprovados = df_his.loc[df_reprovados.index]\n",
        "df_geo_reprovados = df_geo.loc[df_reprovados.index]\n",
        "\n",
        "media_acertos_his_reprovados = df_his_reprovados['Qt_acertos'].mean()\n",
        "media_acertos_geo_reprovados = df_geo_reprovados['Qt_acertos'].mean()\n",
        "\n",
        "print(f'A média de acertos do grupo de reprovados no teste de história é {media_acertos_his_reprovados:.2f}')\n",
        "print(f'A média de acertos do grupo de reprovados no teste de geografia é {media_acertos_geo_reprovados:.2f}')\n"
      ]
    },
    {
      "cell_type": "code",
      "execution_count": 36,
      "metadata": {},
      "outputs": [
        {
          "name": "stdout",
          "output_type": "stream",
          "text": [
            "Número de aprovados: 77\n"
          ]
        },
        {
          "data": {
            "text/html": [
              "<div>\n",
              "<style scoped>\n",
              "    .dataframe tbody tr th:only-of-type {\n",
              "        vertical-align: middle;\n",
              "    }\n",
              "\n",
              "    .dataframe tbody tr th {\n",
              "        vertical-align: top;\n",
              "    }\n",
              "\n",
              "    .dataframe thead th {\n",
              "        text-align: right;\n",
              "    }\n",
              "</style>\n",
              "<table border=\"1\" class=\"dataframe\">\n",
              "  <thead>\n",
              "    <tr style=\"text-align: right;\">\n",
              "      <th></th>\n",
              "      <th>Qt_acertos</th>\n",
              "      <th>Pct_acertos</th>\n",
              "    </tr>\n",
              "  </thead>\n",
              "  <tbody>\n",
              "    <tr>\n",
              "      <th>0</th>\n",
              "      <td>6</td>\n",
              "      <td>25.00</td>\n",
              "    </tr>\n",
              "    <tr>\n",
              "      <th>1</th>\n",
              "      <td>19</td>\n",
              "      <td>79.17</td>\n",
              "    </tr>\n",
              "    <tr>\n",
              "      <th>2</th>\n",
              "      <td>14</td>\n",
              "      <td>58.33</td>\n",
              "    </tr>\n",
              "    <tr>\n",
              "      <th>4</th>\n",
              "      <td>7</td>\n",
              "      <td>29.17</td>\n",
              "    </tr>\n",
              "    <tr>\n",
              "      <th>5</th>\n",
              "      <td>20</td>\n",
              "      <td>83.33</td>\n",
              "    </tr>\n",
              "  </tbody>\n",
              "</table>\n",
              "</div>"
            ],
            "text/plain": [
              "   Qt_acertos  Pct_acertos\n",
              "0           6        25.00\n",
              "1          19        79.17\n",
              "2          14        58.33\n",
              "4           7        29.17\n",
              "5          20        83.33"
            ]
          },
          "execution_count": 36,
          "metadata": {},
          "output_type": "execute_result"
        }
      ],
      "source": [
        "#montando df usando df_mat de base\n",
        "df_aprovados = df_mat[condicao_aprovado_todos]\n",
        "\n",
        "print(f'Número de aprovados: {df_aprovados.shape[0]}')\n",
        "df_aprovados.head()\n",
        "\n"
      ]
    },
    {
      "cell_type": "markdown",
      "metadata": {
        "id": "EGBUWpAHC8-5"
      },
      "source": [
        "## 3) Vacinações no Acre\n",
        "Vamos trabalhar agora com a base de vacinações no Acre. Para facilitar a sua vida, copiamos o link do arquivo na célula abaixo.\n",
        "\n",
        "1. Quantas vacinas estão registradas nessa base?  \n",
        "2. Quantos pacientes foram vacinados? (considere um paciente para cada valor único de ```paciente_id```)  \n",
        "3. Quantos pacientes únicos tomaram a primeira dose? OBS: Há um caractere especial neste campo. Receba os valores do campo com o método ```.unique()```.   \n",
        "4. Quantos pacientes com menos de 18 anos foram vacinados?  \n",
        "5. Quantos estabelecimentos aplicaram vacina no Acre?\n",
        "\n",
        "\n",
        "**OBS:** O portal do DATASUS pode apresentar instabilidades, retornando um erro na segunda célula abaixo. Por este motivo está disponível uma base estática, que se for baixada para o seu *working directory* pode ser lida com este comando: ```df = pd.read_csv('registros de vacinacao covid ACRE.csv', sep=';')```.\n",
        "\n",
        "**OBS2:** Para saber qual é o seu working directory, rode no jupyter: ```!pwd```."
      ]
    },
    {
      "cell_type": "code",
      "execution_count": 37,
      "metadata": {
        "id": "ET4r139hC8-5"
      },
      "outputs": [],
      "source": [
        "# arquivo = 'https://s3.sa-east-1.amazonaws.com/ckan.saude.gov.br/SIPNI/COVID/uf/uf%3DAC/part-00000-5ed92752-6121-474f-ab37-816918134afc.c000.csv'\n",
        "arquivo = 'registros de vacinacao covid ACRE.csv'\n",
        "df = pd.read_csv(arquivo, sep=';')"
      ]
    },
    {
      "cell_type": "code",
      "execution_count": 38,
      "metadata": {},
      "outputs": [
        {
          "data": {
            "text/html": [
              "<div>\n",
              "<style scoped>\n",
              "    .dataframe tbody tr th:only-of-type {\n",
              "        vertical-align: middle;\n",
              "    }\n",
              "\n",
              "    .dataframe tbody tr th {\n",
              "        vertical-align: top;\n",
              "    }\n",
              "\n",
              "    .dataframe thead th {\n",
              "        text-align: right;\n",
              "    }\n",
              "</style>\n",
              "<table border=\"1\" class=\"dataframe\">\n",
              "  <thead>\n",
              "    <tr style=\"text-align: right;\">\n",
              "      <th></th>\n",
              "      <th>document_id</th>\n",
              "      <th>paciente_id</th>\n",
              "      <th>paciente_idade</th>\n",
              "      <th>paciente_datanascimento</th>\n",
              "      <th>paciente_enumsexobiologico</th>\n",
              "      <th>paciente_racacor_codigo</th>\n",
              "      <th>paciente_racacor_valor</th>\n",
              "      <th>paciente_endereco_coibgemunicipio</th>\n",
              "      <th>paciente_endereco_copais</th>\n",
              "      <th>paciente_endereco_nmmunicipio</th>\n",
              "      <th>...</th>\n",
              "      <th>vacina_lote</th>\n",
              "      <th>vacina_fabricante_nome</th>\n",
              "      <th>vacina_fabricante_referencia</th>\n",
              "      <th>vacina_dataaplicacao</th>\n",
              "      <th>vacina_descricao_dose</th>\n",
              "      <th>vacina_codigo</th>\n",
              "      <th>vacina_nome</th>\n",
              "      <th>sistema_origem</th>\n",
              "      <th>data_importacao_rnds</th>\n",
              "      <th>id_sistema_origem</th>\n",
              "    </tr>\n",
              "  </thead>\n",
              "  <tbody>\n",
              "    <tr>\n",
              "      <th>0</th>\n",
              "      <td>b19cd280-474c-4c22-a35d-8c06bc04a4e0-i0b0</td>\n",
              "      <td>2e091c9a37d3f50d1d705fc80c6448c6fc69b44da9e936...</td>\n",
              "      <td>69</td>\n",
              "      <td>1951-12-28</td>\n",
              "      <td>F</td>\n",
              "      <td>3</td>\n",
              "      <td>PARDA</td>\n",
              "      <td>120050.0</td>\n",
              "      <td>10.0</td>\n",
              "      <td>SENA MADUREIRA</td>\n",
              "      <td>...</td>\n",
              "      <td>210052A</td>\n",
              "      <td>FUNDACAO BUTANTAN</td>\n",
              "      <td>Organization/61189445000156</td>\n",
              "      <td>2021-03-23</td>\n",
              "      <td>1ª Dose</td>\n",
              "      <td>86</td>\n",
              "      <td>Covid-19-Coronavac-Sinovac/Butantan</td>\n",
              "      <td>Novo PNI</td>\n",
              "      <td>2021-03-25T03:27:19.000Z</td>\n",
              "      <td>NaN</td>\n",
              "    </tr>\n",
              "    <tr>\n",
              "      <th>1</th>\n",
              "      <td>a1acc0b6-1cf6-4c4b-adcb-06b473a0faaf-i0b0</td>\n",
              "      <td>f4e17a9e5354cb45e223d85eda02fb2f76048c801675f5...</td>\n",
              "      <td>81</td>\n",
              "      <td>1939-11-22</td>\n",
              "      <td>M</td>\n",
              "      <td>3</td>\n",
              "      <td>PARDA</td>\n",
              "      <td>120040.0</td>\n",
              "      <td>10.0</td>\n",
              "      <td>RIO BRANCO</td>\n",
              "      <td>...</td>\n",
              "      <td>210110</td>\n",
              "      <td>FUNDACAO BUTANTAN</td>\n",
              "      <td>Organization/61189445000156</td>\n",
              "      <td>2021-04-29</td>\n",
              "      <td>2ª Dose</td>\n",
              "      <td>86</td>\n",
              "      <td>Covid-19-Coronavac-Sinovac/Butantan</td>\n",
              "      <td>Novo PNI</td>\n",
              "      <td>2021-04-30T16:03:14.000Z</td>\n",
              "      <td>NaN</td>\n",
              "    </tr>\n",
              "    <tr>\n",
              "      <th>2</th>\n",
              "      <td>af279a98-ba1f-47ea-8214-314a98040b0d-i0b0</td>\n",
              "      <td>6734b26bccf826130ebffa66575977bbe71477b12bcf42...</td>\n",
              "      <td>69</td>\n",
              "      <td>1951-08-14</td>\n",
              "      <td>M</td>\n",
              "      <td>4</td>\n",
              "      <td>AMARELA</td>\n",
              "      <td>120020.0</td>\n",
              "      <td>10.0</td>\n",
              "      <td>CRUZEIRO DO SUL</td>\n",
              "      <td>...</td>\n",
              "      <td>210135</td>\n",
              "      <td>FUNDACAO BUTANTAN</td>\n",
              "      <td>Organization/61189445000156</td>\n",
              "      <td>2021-04-16</td>\n",
              "      <td>1ª Dose</td>\n",
              "      <td>86</td>\n",
              "      <td>Covid-19-Coronavac-Sinovac/Butantan</td>\n",
              "      <td>Novo PNI</td>\n",
              "      <td>2021-04-16T15:54:39.000Z</td>\n",
              "      <td>NaN</td>\n",
              "    </tr>\n",
              "    <tr>\n",
              "      <th>3</th>\n",
              "      <td>4879308e-5050-46bb-b8e2-11fa5646a05c-i0b0</td>\n",
              "      <td>84a341fd350c1ba7117fccbb4d2df417bc0fac0fffac37...</td>\n",
              "      <td>51</td>\n",
              "      <td>1969-12-15</td>\n",
              "      <td>F</td>\n",
              "      <td>3</td>\n",
              "      <td>PARDA</td>\n",
              "      <td>120040.0</td>\n",
              "      <td>10.0</td>\n",
              "      <td>RIO BRANCO</td>\n",
              "      <td>...</td>\n",
              "      <td>202010040</td>\n",
              "      <td>FUNDACAO BUTANTAN</td>\n",
              "      <td>Organization/61189445000156</td>\n",
              "      <td>2021-02-19</td>\n",
              "      <td>2ª Dose</td>\n",
              "      <td>86</td>\n",
              "      <td>Covid-19-Coronavac-Sinovac/Butantan</td>\n",
              "      <td>Novo PNI</td>\n",
              "      <td>2021-03-10T14:40:54.000Z</td>\n",
              "      <td>NaN</td>\n",
              "    </tr>\n",
              "    <tr>\n",
              "      <th>4</th>\n",
              "      <td>000e911b-e3a4-4114-a735-d1f2e6e3797f-i0b0</td>\n",
              "      <td>c59571e19f368d4b0cf08cd3bcabb32e5cd8baad5340f6...</td>\n",
              "      <td>65</td>\n",
              "      <td>1955-11-21</td>\n",
              "      <td>M</td>\n",
              "      <td>3</td>\n",
              "      <td>PARDA</td>\n",
              "      <td>120040.0</td>\n",
              "      <td>10.0</td>\n",
              "      <td>RIO BRANCO</td>\n",
              "      <td>...</td>\n",
              "      <td>212VCD001ZVB</td>\n",
              "      <td>FUNDACAO OSWALDO CRUZ</td>\n",
              "      <td>Organization/33781055000135</td>\n",
              "      <td>2021-03-29</td>\n",
              "      <td>1ª Dose</td>\n",
              "      <td>85</td>\n",
              "      <td>Vacina Covid-19 - Covishield</td>\n",
              "      <td>Novo PNI</td>\n",
              "      <td>2021-04-03T19:44:28.000Z</td>\n",
              "      <td>NaN</td>\n",
              "    </tr>\n",
              "  </tbody>\n",
              "</table>\n",
              "<p>5 rows × 34 columns</p>\n",
              "</div>"
            ],
            "text/plain": [
              "                                 document_id  \\\n",
              "0  b19cd280-474c-4c22-a35d-8c06bc04a4e0-i0b0   \n",
              "1  a1acc0b6-1cf6-4c4b-adcb-06b473a0faaf-i0b0   \n",
              "2  af279a98-ba1f-47ea-8214-314a98040b0d-i0b0   \n",
              "3  4879308e-5050-46bb-b8e2-11fa5646a05c-i0b0   \n",
              "4  000e911b-e3a4-4114-a735-d1f2e6e3797f-i0b0   \n",
              "\n",
              "                                         paciente_id  paciente_idade  \\\n",
              "0  2e091c9a37d3f50d1d705fc80c6448c6fc69b44da9e936...              69   \n",
              "1  f4e17a9e5354cb45e223d85eda02fb2f76048c801675f5...              81   \n",
              "2  6734b26bccf826130ebffa66575977bbe71477b12bcf42...              69   \n",
              "3  84a341fd350c1ba7117fccbb4d2df417bc0fac0fffac37...              51   \n",
              "4  c59571e19f368d4b0cf08cd3bcabb32e5cd8baad5340f6...              65   \n",
              "\n",
              "  paciente_datanascimento paciente_enumsexobiologico  paciente_racacor_codigo  \\\n",
              "0              1951-12-28                          F                        3   \n",
              "1              1939-11-22                          M                        3   \n",
              "2              1951-08-14                          M                        4   \n",
              "3              1969-12-15                          F                        3   \n",
              "4              1955-11-21                          M                        3   \n",
              "\n",
              "  paciente_racacor_valor  paciente_endereco_coibgemunicipio  \\\n",
              "0                  PARDA                           120050.0   \n",
              "1                  PARDA                           120040.0   \n",
              "2                AMARELA                           120020.0   \n",
              "3                  PARDA                           120040.0   \n",
              "4                  PARDA                           120040.0   \n",
              "\n",
              "   paciente_endereco_copais paciente_endereco_nmmunicipio  ...   vacina_lote  \\\n",
              "0                      10.0                SENA MADUREIRA  ...       210052A   \n",
              "1                      10.0                    RIO BRANCO  ...        210110   \n",
              "2                      10.0               CRUZEIRO DO SUL  ...        210135   \n",
              "3                      10.0                    RIO BRANCO  ...     202010040   \n",
              "4                      10.0                    RIO BRANCO  ...  212VCD001ZVB   \n",
              "\n",
              "  vacina_fabricante_nome  vacina_fabricante_referencia vacina_dataaplicacao  \\\n",
              "0      FUNDACAO BUTANTAN   Organization/61189445000156           2021-03-23   \n",
              "1      FUNDACAO BUTANTAN   Organization/61189445000156           2021-04-29   \n",
              "2      FUNDACAO BUTANTAN   Organization/61189445000156           2021-04-16   \n",
              "3      FUNDACAO BUTANTAN   Organization/61189445000156           2021-02-19   \n",
              "4  FUNDACAO OSWALDO CRUZ   Organization/33781055000135           2021-03-29   \n",
              "\n",
              "   vacina_descricao_dose vacina_codigo                          vacina_nome  \\\n",
              "0                1ª Dose            86  Covid-19-Coronavac-Sinovac/Butantan   \n",
              "1                2ª Dose            86  Covid-19-Coronavac-Sinovac/Butantan   \n",
              "2                1ª Dose            86  Covid-19-Coronavac-Sinovac/Butantan   \n",
              "3                2ª Dose            86  Covid-19-Coronavac-Sinovac/Butantan   \n",
              "4                1ª Dose            85         Vacina Covid-19 - Covishield   \n",
              "\n",
              "   sistema_origem      data_importacao_rnds id_sistema_origem  \n",
              "0        Novo PNI  2021-03-25T03:27:19.000Z               NaN  \n",
              "1        Novo PNI  2021-04-30T16:03:14.000Z               NaN  \n",
              "2        Novo PNI  2021-04-16T15:54:39.000Z               NaN  \n",
              "3        Novo PNI  2021-03-10T14:40:54.000Z               NaN  \n",
              "4        Novo PNI  2021-04-03T19:44:28.000Z               NaN  \n",
              "\n",
              "[5 rows x 34 columns]"
            ]
          },
          "execution_count": 38,
          "metadata": {},
          "output_type": "execute_result"
        }
      ],
      "source": [
        "df.head()"
      ]
    },
    {
      "cell_type": "code",
      "execution_count": 44,
      "metadata": {
        "id": "SC9YMWLSC8-6"
      },
      "outputs": [
        {
          "name": "stdout",
          "output_type": "stream",
          "text": [
            "vacinas registradas na base: 169071\n"
          ]
        }
      ],
      "source": [
        "# 1) Sua solução aqui\n",
        "print(f'vacinas registradas na base: {df.shape[0]}')\n"
      ]
    },
    {
      "cell_type": "code",
      "execution_count": 47,
      "metadata": {
        "id": "PMztY1RlC8-7"
      },
      "outputs": [
        {
          "name": "stdout",
          "output_type": "stream",
          "text": [
            " pacientes únicos: 120517\n"
          ]
        }
      ],
      "source": [
        "# 2)\n",
        "numero_pacientes_unicos = df['paciente_id'].nunique()\n",
        "print(f' pacientes únicos: {numero_pacientes_unicos}')"
      ]
    },
    {
      "cell_type": "code",
      "execution_count": 77,
      "metadata": {
        "id": "V_wr--3JC8-7"
      },
      "outputs": [
        {
          "name": "stdout",
          "output_type": "stream",
          "text": [
            " 1ª dose: 120939\n"
          ]
        }
      ],
      "source": [
        "# 3)\n",
        "#achar o caractere especial\n",
        "df['vacina_descricao_dose'].unique()\n",
        "contagem_doses = df['vacina_descricao_dose'].value_counts()\n",
        "#trazer pelo caractere A especial\n",
        "primeira_dose = contagem_doses['\\xa0\\xa0\\xa0\\xa01ª\\xa0Dose']\n",
        "print(f' 1ª dose: {primeira_dose}')"
      ]
    },
    {
      "cell_type": "code",
      "execution_count": 69,
      "metadata": {
        "id": "S6ab9ExEC8-7"
      },
      "outputs": [
        {
          "name": "stdout",
          "output_type": "stream",
          "text": [
            "Pacientes menores de 18 anos vacinados: 55\n"
          ]
        }
      ],
      "source": [
        "# 4)\n",
        "# para obter todas as colunas dos pacientes com menos de 18 anos.\n",
        "condicao_menor_18 = df['paciente_idade'] < 18\n",
        "df_pacientes_menor_18_filtrado = df[condicao_menor_18]\n",
        "\n",
        "numero_pacientes_menor_18 = df_pacientes_menor_18_filtrado.shape[0]\n",
        "print(f\"Pacientes menores de 18 anos vacinados: {numero_pacientes_menor_18}\")\n"
      ]
    },
    {
      "cell_type": "code",
      "execution_count": 76,
      "metadata": {
        "id": "PVrY_-qlC8-8"
      },
      "outputs": [
        {
          "name": "stdout",
          "output_type": "stream",
          "text": [
            "numero de estabelecimentos: 42\n"
          ]
        }
      ],
      "source": [
        "# 5)\n",
        "# df.columns\n",
        "print(f'numero de estabelecimentos: {df['estabelecimento_razaosocial'].nunique()}')\n"
      ]
    },
    {
      "cell_type": "markdown",
      "metadata": {
        "id": "LH1LSYvGC8-8"
      },
      "source": [
        "## 4) Vacinação II\n",
        "Gere um *DataFrame* que contenha somente os estabelecimentos que aplicaram vcinas a menores de 18 anos. Nesse *DataFrame* devem conter somente os dados dos estabelecimentos, mais uma coluna sendo a quantidade de vacinas que o estabelecimento aplicou a menores de 18 anos.  \n",
        "  \n",
        "1. crie uma cópia do *DataFrame* original, contendo somente os registros de vacinas realizadas a menores de 18 anos.  \n",
        "2. crie uma lista das colunas desse *DataFrame* com o atributo de *DataFrame* **.columns()**  \n",
        "3. Nesse *DataFrame* faça uma contagem do campo ```vacina_categoria_nome```.\n",
        "3. a partir da lista de colunas, escolha somente aquelas que são referentes ao estabelecimento, faça uma lista com esses valores.  \n",
        "4. usando o método *.loc*, selecione somente essas variáveis  \n",
        "5. Aplique o método **.drop_duplicates** e crie uma lista com uma linha para cada estabelecimento, com os dados do estabelecimento  "
      ]
    },
    {
      "cell_type": "code",
      "execution_count": 86,
      "metadata": {
        "id": "3ojs12vUC8-8"
      },
      "outputs": [
        {
          "name": "stdout",
          "output_type": "stream",
          "text": [
            "\n",
            "Idade máxima: 17\n",
            "Número de registros 55\n"
          ]
        }
      ],
      "source": [
        "# 1)\n",
        "# 1. crie uma cópia do *DataFrame* original, contendo somente os registros de vacinas realizadas a menores de 18 anos.\n",
        "condicao_menores_18 = df['paciente_idade'] < 18\n",
        "df_vacinacao_menores_18 = df[condicao_menores_18].copy()\n",
        "\n",
        "print(f\"\\nIdade máxima: {df_vacinacao_menores_18['paciente_idade'].max()}\")\n",
        "print(f\"Número de registros {df_vacinacao_menores_18.shape[0]}\")"
      ]
    },
    {
      "cell_type": "code",
      "execution_count": 87,
      "metadata": {
        "id": "sLyevPRBC8-8"
      },
      "outputs": [
        {
          "name": "stdout",
          "output_type": "stream",
          "text": [
            "['document_id', 'paciente_id', 'paciente_idade', 'paciente_datanascimento', 'paciente_enumsexobiologico', 'paciente_racacor_codigo', 'paciente_racacor_valor', 'paciente_endereco_coibgemunicipio', 'paciente_endereco_copais', 'paciente_endereco_nmmunicipio', 'paciente_endereco_nmpais', 'paciente_endereco_uf', 'paciente_endereco_cep', 'paciente_nacionalidade_enumnacionalidade', 'estabelecimento_valor', 'estabelecimento_razaosocial', 'estalecimento_nofantasia', 'estabelecimento_municipio_codigo', 'estabelecimento_municipio_nome', 'estabelecimento_uf', 'vacina_grupoatendimento_codigo', 'vacina_grupoatendimento_nome', 'vacina_categoria_codigo', 'vacina_categoria_nome', 'vacina_lote', 'vacina_fabricante_nome', 'vacina_fabricante_referencia', 'vacina_dataaplicacao', 'vacina_descricao_dose', 'vacina_codigo', 'vacina_nome', 'sistema_origem', 'data_importacao_rnds', 'id_sistema_origem']\n"
          ]
        }
      ],
      "source": [
        "# 2)\n",
        "lista_colunas_menor18 = list(df_vacinacao_menores_18.columns)\n",
        "print(lista_colunas_menor18)\n"
      ]
    },
    {
      "cell_type": "code",
      "execution_count": 89,
      "metadata": {
        "id": "lZAW-Dp8C8-8"
      },
      "outputs": [
        {
          "name": "stdout",
          "output_type": "stream",
          "text": [
            "\n",
            "Contagem de cada valor no campo 'vacina_categoria_nome' para menores de 18 anos:\n",
            "vacina_categoria_nome\n",
            "Povos Indígenas                     33\n",
            "Trabalhadores de Saúde               9\n",
            "Povos e Comunidades Tradicionais     9\n",
            "Comorbidades                         2\n",
            "Faixa Etária                         1\n",
            "Name: count, dtype: int64\n",
            "\n",
            "Total: 54\n"
          ]
        }
      ],
      "source": [
        "# 3)\n",
        "contagem_categoria_vacina = df_vacinacao_menores_18['vacina_categoria_nome'].value_counts()\n",
        "soma_categoria_vacina = contagem_categoria_vacina.sum()\n",
        "# Exibir a contagem\n",
        "print(\"\\nContagem de cada valor no campo 'vacina_categoria_nome' para menores de 18 anos:\")\n",
        "print(contagem_categoria_vacina)\n",
        "# Exibir a soma\n",
        "print(\"\\nTotal:\", soma_categoria_vacina)"
      ]
    },
    {
      "cell_type": "code",
      "execution_count": null,
      "metadata": {
        "id": "xxYsxrxAC8-8"
      },
      "outputs": [
        {
          "name": "stdout",
          "output_type": "stream",
          "text": [
            "Lista de colunas:\n",
            "['estabelecimento_valor', 'estabelecimento_razaosocial', 'estabelecimento_municipio_codigo', 'estabelecimento_municipio_nome', 'estabelecimento_uf']\n"
          ]
        }
      ],
      "source": [
        "# 4)\n",
        "# Se as colunas relevantes contiverem a palavra 'estabelecimento'\n",
        "colunas_estabelecimento = [col for col in df_vacinacao_menores_18.columns if 'estabelecimento' in col.lower()]\n",
        "print(\"Lista de colunas:\")\n",
        "print(colunas_estabelecimento)"
      ]
    },
    {
      "cell_type": "code",
      "execution_count": 95,
      "metadata": {
        "id": "vaX2x_0rC8-8"
      },
      "outputs": [
        {
          "data": {
            "text/html": [
              "<div>\n",
              "<style scoped>\n",
              "    .dataframe tbody tr th:only-of-type {\n",
              "        vertical-align: middle;\n",
              "    }\n",
              "\n",
              "    .dataframe tbody tr th {\n",
              "        vertical-align: top;\n",
              "    }\n",
              "\n",
              "    .dataframe thead th {\n",
              "        text-align: right;\n",
              "    }\n",
              "</style>\n",
              "<table border=\"1\" class=\"dataframe\">\n",
              "  <thead>\n",
              "    <tr style=\"text-align: right;\">\n",
              "      <th></th>\n",
              "      <th>estabelecimento_valor</th>\n",
              "      <th>estabelecimento_razaosocial</th>\n",
              "      <th>estabelecimento_municipio_codigo</th>\n",
              "      <th>estabelecimento_municipio_nome</th>\n",
              "      <th>estabelecimento_uf</th>\n",
              "    </tr>\n",
              "  </thead>\n",
              "  <tbody>\n",
              "    <tr>\n",
              "      <th>1567</th>\n",
              "      <td>2001314</td>\n",
              "      <td>PREFEITURA MUNICIPAL DE EPITACIOLANDIA</td>\n",
              "      <td>120025</td>\n",
              "      <td>EPITACIOLANDIA</td>\n",
              "      <td>AC</td>\n",
              "    </tr>\n",
              "    <tr>\n",
              "      <th>6250</th>\n",
              "      <td>6917291</td>\n",
              "      <td>PREFEITURA MUNICIPAL DE RIO BRANCO</td>\n",
              "      <td>120040</td>\n",
              "      <td>RIO BRANCO</td>\n",
              "      <td>AC</td>\n",
              "    </tr>\n",
              "    <tr>\n",
              "      <th>9569</th>\n",
              "      <td>6159087</td>\n",
              "      <td>PREFEITURA MUNICIPAL DE CRUZEIRO DO SUL</td>\n",
              "      <td>120020</td>\n",
              "      <td>CRUZEIRO DO SUL</td>\n",
              "      <td>AC</td>\n",
              "    </tr>\n",
              "    <tr>\n",
              "      <th>11338</th>\n",
              "      <td>2000040</td>\n",
              "      <td>PREFEITURA MUNICIPAL DE FEIJO</td>\n",
              "      <td>120030</td>\n",
              "      <td>FEIJO</td>\n",
              "      <td>AC</td>\n",
              "    </tr>\n",
              "    <tr>\n",
              "      <th>15144</th>\n",
              "      <td>7625855</td>\n",
              "      <td>DISTRITO SANITARIO ESPECIAL INDIGENA ALTO RIO ...</td>\n",
              "      <td>120035</td>\n",
              "      <td>MARECHAL THAUMATURGO</td>\n",
              "      <td>AC</td>\n",
              "    </tr>\n",
              "  </tbody>\n",
              "</table>\n",
              "</div>"
            ],
            "text/plain": [
              "       estabelecimento_valor  \\\n",
              "1567                 2001314   \n",
              "6250                 6917291   \n",
              "9569                 6159087   \n",
              "11338                2000040   \n",
              "15144                7625855   \n",
              "\n",
              "                             estabelecimento_razaosocial  \\\n",
              "1567              PREFEITURA MUNICIPAL DE EPITACIOLANDIA   \n",
              "6250                  PREFEITURA MUNICIPAL DE RIO BRANCO   \n",
              "9569             PREFEITURA MUNICIPAL DE CRUZEIRO DO SUL   \n",
              "11338                      PREFEITURA MUNICIPAL DE FEIJO   \n",
              "15144  DISTRITO SANITARIO ESPECIAL INDIGENA ALTO RIO ...   \n",
              "\n",
              "       estabelecimento_municipio_codigo estabelecimento_municipio_nome  \\\n",
              "1567                             120025                 EPITACIOLANDIA   \n",
              "6250                             120040                     RIO BRANCO   \n",
              "9569                             120020                CRUZEIRO DO SUL   \n",
              "11338                            120030                          FEIJO   \n",
              "15144                            120035           MARECHAL THAUMATURGO   \n",
              "\n",
              "      estabelecimento_uf  \n",
              "1567                  AC  \n",
              "6250                  AC  \n",
              "9569                  AC  \n",
              "11338                 AC  \n",
              "15144                 AC  "
            ]
          },
          "execution_count": 95,
          "metadata": {},
          "output_type": "execute_result"
        }
      ],
      "source": [
        "# 5)\n",
        "df_estabelecimentos_menores_18 = df_vacinacao_menores_18.loc[:, colunas_estabelecimento]\n",
        "df_estabelecimentos_menores_18.head()\n"
      ]
    },
    {
      "cell_type": "code",
      "execution_count": 107,
      "metadata": {},
      "outputs": [
        {
          "name": "stdout",
          "output_type": "stream",
          "text": [
            "[[2001314, 'PREFEITURA MUNICIPAL DE EPITACIOLANDIA', 120025, 'EPITACIOLANDIA', 'AC'], [6917291, 'PREFEITURA MUNICIPAL DE RIO BRANCO', 120040, 'RIO BRANCO', 'AC'], [6159087, 'PREFEITURA MUNICIPAL DE CRUZEIRO DO SUL', 120020, 'CRUZEIRO DO SUL', 'AC'], [2000040, 'PREFEITURA MUNICIPAL DE FEIJO', 120030, 'FEIJO', 'AC'], [7625855, 'DISTRITO SANITARIO ESPECIAL INDIGENA ALTO RIO JURUA', 120035, 'MARECHAL THAUMATURGO', 'AC'], [6748759, 'DISTRITO SANITARIO ESPECIAL INDIGENA ALTO RIO JURUA', 120030, 'FEIJO', 'AC'], [6308740, 'DISTRITO SANITARIO ESPECIAL INDIGENA ALTO RIO JURUA', 120039, 'PORTO WALTER', 'AC'], [2001748, 'PREFEITURA MUNICIPAL DE PORTO WALTER', 120039, 'PORTO WALTER', 'AC'], [6917682, 'DISTRITO SANITARIO ESPECIAL INDIGENA ALTO RIO JURUA', 120020, 'CRUZEIRO DO SUL', 'AC'], [6428940, 'PREFEITURA MUNICIPAL DE ASSIS BRASIL', 120005, 'ASSIS BRASIL', 'AC'], [6612385, 'PREFEITURA MUNICIPAL DE TARAUACA', 120060, 'TARAUACA', 'AC'], [9648968, 'DISTRITO SANITARIO ESPECIAL DE SAUDE INDIGENA ALTO RIO PURUS', 120034, 'MANOEL URBANO', 'AC'], [6430201, 'DISTRITO SANITARIO ESPECIAL INDIGENA ALTO JURUA', 120032, 'JORDAO', 'AC'], [6955525, 'DISTRITO SANITARIO ESPECIAL INDIGENA ALTO RIO JURUA', 120033, 'MANCIO LIMA', 'AC'], [5336171, 'SECRETARIA DE ESTADO DE SAUDE DO ACRE', 120020, 'CRUZEIRO DO SUL', 'AC'], [6697151, 'MINISTERIO DA SAUDE', 120050, 'SENA MADUREIRA', 'AC'], [3323307, 'PREFEITURA MUNICIPAL DE PORTO ACRE', 120080, 'PORTO ACRE', 'AC'], [7123043, 'PREFEITURA MUNICIPAL DE JORDAO', 120032, 'JORDAO', 'AC']]\n",
            "0     [2001314, PREFEITURA MUNICIPAL DE EPITACIOLAND...\n",
            "1     [6917291, PREFEITURA MUNICIPAL DE RIO BRANCO, ...\n",
            "2     [6159087, PREFEITURA MUNICIPAL DE CRUZEIRO DO ...\n",
            "3     [2000040, PREFEITURA MUNICIPAL DE FEIJO, 12003...\n",
            "4     [7625855, DISTRITO SANITARIO ESPECIAL INDIGENA...\n",
            "5     [6748759, DISTRITO SANITARIO ESPECIAL INDIGENA...\n",
            "6     [6308740, DISTRITO SANITARIO ESPECIAL INDIGENA...\n",
            "7     [2001748, PREFEITURA MUNICIPAL DE PORTO WALTER...\n",
            "8     [6917682, DISTRITO SANITARIO ESPECIAL INDIGENA...\n",
            "9     [6428940, PREFEITURA MUNICIPAL DE ASSIS BRASIL...\n",
            "10    [6612385, PREFEITURA MUNICIPAL DE TARAUACA, 12...\n",
            "11    [9648968, DISTRITO SANITARIO ESPECIAL DE SAUDE...\n",
            "12    [6430201, DISTRITO SANITARIO ESPECIAL INDIGENA...\n",
            "13    [6955525, DISTRITO SANITARIO ESPECIAL INDIGENA...\n",
            "14    [5336171, SECRETARIA DE ESTADO DE SAUDE DO ACR...\n",
            "15    [6697151, MINISTERIO DA SAUDE, 120050, SENA MA...\n",
            "16    [3323307, PREFEITURA MUNICIPAL DE PORTO ACRE, ...\n",
            "17    [7123043, PREFEITURA MUNICIPAL DE JORDAO, 1200...\n",
            "dtype: object\n"
          ]
        }
      ],
      "source": [
        "#6)\n",
        "df_dados_estabelecimentos = df_vacinacao_menores_18[colunas_estabelecimento].copy()\n",
        "#dropar linhas duplicadas\n",
        "df_estabelecimentos_unicos = df_dados_estabelecimentos.drop_duplicates()\n",
        "#transformar em lista\n",
        "lista_com_dados_dos_estabelecimentos = df_estabelecimentos_unicos.values.tolist()\n",
        "#imprimir\n",
        "print(lista_com_dados_dos_estabelecimentos)\n",
        "#ou\n",
        "#transformar em series\n",
        "series_de_listas = pd.Series(lista_com_dados_dos_estabelecimentos)\n",
        "print(series_de_listas)"
      ]
    }
  ],
  "metadata": {
    "colab": {
      "provenance": []
    },
    "kernelspec": {
      "display_name": "base",
      "language": "python",
      "name": "python3"
    },
    "language_info": {
      "codemirror_mode": {
        "name": "ipython",
        "version": 3
      },
      "file_extension": ".py",
      "mimetype": "text/x-python",
      "name": "python",
      "nbconvert_exporter": "python",
      "pygments_lexer": "ipython3",
      "version": "3.12.7"
    },
    "toc": {
      "base_numbering": 1,
      "nav_menu": {},
      "number_sections": false,
      "sideBar": true,
      "skip_h1_title": true,
      "title_cell": "Índice",
      "title_sidebar": "Conteúdo",
      "toc_cell": false,
      "toc_position": {},
      "toc_section_display": true,
      "toc_window_display": false
    },
    "varInspector": {
      "cols": {
        "lenName": 16,
        "lenType": 16,
        "lenVar": 40
      },
      "kernels_config": {
        "python": {
          "delete_cmd_postfix": "",
          "delete_cmd_prefix": "del ",
          "library": "var_list.py",
          "varRefreshCmd": "print(var_dic_list())"
        },
        "r": {
          "delete_cmd_postfix": ") ",
          "delete_cmd_prefix": "rm(",
          "library": "var_list.r",
          "varRefreshCmd": "cat(var_dic_list()) "
        }
      },
      "types_to_exclude": [
        "module",
        "function",
        "builtin_function_or_method",
        "instance",
        "_Feature"
      ],
      "window_display": false
    }
  },
  "nbformat": 4,
  "nbformat_minor": 0
}
